{
 "cells": [
  {
   "cell_type": "markdown",
   "metadata": {},
   "source": [
    "# Decision Tree Implementation in Python using SciKit Learn"
   ]
  },
  {
   "cell_type": "code",
   "execution_count": null,
   "metadata": {},
   "outputs": [],
   "source": [
    "import pandas as pd\n",
    "from sklearn.tree import DecisionTreeClassifier\n",
    "from sklearn.model_selection import train_test_split\n",
    "from sklearn import preprocessing\n",
    "import numpy as np"
   ]
  },
  {
   "cell_type": "code",
   "execution_count": null,
   "metadata": {},
   "outputs": [],
   "source": [
    "dataset = np.array([\n",
    "    ['Salty','Hot','Soft','No'],\n",
    "    ['Spicy','Hot','Soft','No'],\n",
    "    ['Spicy','Hot','Hard','Yes'],\n",
    "    ['Spicy','Cold','Hard','No'],\n",
    "    ['Spicy','Hot','Hard','Yes'],\n",
    "    ['Sweet','Cold','Soft','Yes'],\n",
    "    ['Salty','Cold','Soft','No'],\n",
    "    ['Sweet','Hot','Soft','Yes'],\n",
    "    ['Spicy','Cold','Soft','Yes'],\n",
    "    ['Salty','Hot','Hard','Yes']])"
   ]
  },
  {
   "cell_type": "code",
   "execution_count": null,
   "metadata": {},
   "outputs": [],
   "source": [
    "# We need to convert categorical data into numerical data for process.\n",
    "enc = preprocessing.OrdinalEncoder()\n",
    "enc.fit(dataset)\n",
    "data = enc.transform(dataset)"
   ]
  },
  {
   "cell_type": "code",
   "execution_count": null,
   "metadata": {},
   "outputs": [],
   "source": [
    "# Create mapping between Original Target Classes and Encoded Target Classes to show prediction in categorical form.\n",
    "class_mapping = {}\n",
    "\n",
    "for num, label in zip((data[:,-1].astype('int')), (dataset[:,-1])):\n",
    "    class_mapping[num] = label"
   ]
  },
  {
   "cell_type": "code",
   "execution_count": null,
   "metadata": {},
   "outputs": [],
   "source": [
    "# Features variables - Taste, Temperature & Texture\n",
    "features = data[:,0:-1]\n",
    "\n",
    "# Target/Dependent Variable - Gender\n",
    "targets = data[:,-1]"
   ]
  },
  {
   "cell_type": "code",
   "execution_count": null,
   "metadata": {},
   "outputs": [],
   "source": [
    "# Split Sample Data into features and test training set.\n",
    "feature_train, feature_test, target_train, target_test = train_test_split(features, targets,test_size=0.1)\n"
   ]
  },
  {
   "cell_type": "code",
   "execution_count": null,
   "metadata": {},
   "outputs": [],
   "source": [
    "#Problem - Should I eat if taste is salty, temperature is hot and texture is hard?\n",
    "guess = np.array([['Salty','Hot','Hard']])"
   ]
  },
  {
   "cell_type": "code",
   "execution_count": null,
   "metadata": {},
   "outputs": [],
   "source": [
    "# Train the Model\n",
    "model = DecisionTreeClassifier(criterion='entropy')\n",
    "model.fit(feature_train, target_train)"
   ]
  },
  {
   "cell_type": "code",
   "execution_count": null,
   "metadata": {},
   "outputs": [],
   "source": [
    "# Predict Gender\n",
    "predictions = model.predict(enc.transform(guess))"
   ]
  },
  {
   "cell_type": "code",
   "execution_count": null,
   "metadata": {},
   "outputs": [],
   "source": [
    "#output\n",
    "predictions_labels = [class_mapping[key] for key in predictions]\n",
    "print(predictions_labels)\n"
   ]
  },
  {
   "cell_type": "code",
   "execution_count": null,
   "metadata": {},
   "outputs": [],
   "source": []
  }
 ],
 "metadata": {
  "kernelspec": {
   "display_name": "Python 3 (ipykernel)",
   "language": "python",
   "name": "python3"
  },
  "language_info": {
   "codemirror_mode": {
    "name": "ipython",
    "version": 3
   },
   "file_extension": ".py",
   "mimetype": "text/x-python",
   "name": "python",
   "nbconvert_exporter": "python",
   "pygments_lexer": "ipython3",
   "version": "3.11.5"
  }
 },
 "nbformat": 4,
 "nbformat_minor": 2
}
